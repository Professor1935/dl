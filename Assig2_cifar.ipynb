{
 "cells": [
  {
   "cell_type": "code",
   "execution_count": 2,
   "id": "06ffd1ec",
   "metadata": {},
   "outputs": [],
   "source": [
    "import tensorflow as tf\n",
    "from tensorflow import keras\n",
    "import numpy as np\n",
    "import matplotlib.pyplot as plt\n",
    "import random\n"
   ]
  },
  {
   "cell_type": "code",
   "execution_count": 3,
   "id": "79530cb1",
   "metadata": {},
   "outputs": [],
   "source": [
    "cifar=tf.keras.datasets.cifar10\n",
    "(x_train,y_train),(x_test,y_test)=cifar.load_data()"
   ]
  },
  {
   "cell_type": "code",
   "execution_count": 4,
   "id": "4bb9f564",
   "metadata": {},
   "outputs": [
    {
     "data": {
      "text/plain": [
       "(50000, 32, 32, 3)"
      ]
     },
     "execution_count": 4,
     "metadata": {},
     "output_type": "execute_result"
    }
   ],
   "source": [
    "x_train.shape"
   ]
  },
  {
   "cell_type": "code",
   "execution_count": 5,
   "id": "4ac08372",
   "metadata": {},
   "outputs": [],
   "source": [
    "x_train=x_train/255\n",
    "x_test=x_test/255"
   ]
  },
  {
   "cell_type": "code",
   "execution_count": 6,
   "id": "cca10261",
   "metadata": {},
   "outputs": [
    {
     "name": "stdout",
     "output_type": "stream",
     "text": [
      "Model: \"sequential\"\n",
      "_________________________________________________________________\n",
      " Layer (type)                Output Shape              Param #   \n",
      "=================================================================\n",
      " flatten (Flatten)           (None, 3072)              0         \n",
      "                                                                 \n",
      " dense (Dense)               (None, 128)               393344    \n",
      "                                                                 \n",
      " dense_1 (Dense)             (None, 10)                1290      \n",
      "                                                                 \n",
      "=================================================================\n",
      "Total params: 394,634\n",
      "Trainable params: 394,634\n",
      "Non-trainable params: 0\n",
      "_________________________________________________________________\n"
     ]
    }
   ],
   "source": [
    "model=keras.Sequential([\n",
    "    \n",
    "    keras.layers.Flatten(input_shape=(32,32,3)),\n",
    "    keras.layers.Dense(128,activation='relu'),\n",
    "    keras.layers.Dense(10,activation='softmax')\n",
    "    \n",
    "    \n",
    "])\n",
    "model.summary()"
   ]
  },
  {
   "cell_type": "code",
   "execution_count": 7,
   "id": "15ce2628",
   "metadata": {},
   "outputs": [],
   "source": [
    "model.compile(optimizer='sgd',loss='sparse_categorical_crossentropy',metrics=['accuracy'])"
   ]
  },
  {
   "cell_type": "code",
   "execution_count": 13,
   "id": "7a397b4b",
   "metadata": {},
   "outputs": [
    {
     "name": "stdout",
     "output_type": "stream",
     "text": [
      "Epoch 1/15\n",
      "1563/1563 [==============================] - 8s 5ms/step - loss: 1.5267 - accuracy: 0.4622 - val_loss: 1.5775 - val_accuracy: 0.4425\n",
      "Epoch 2/15\n",
      "1563/1563 [==============================] - 8s 5ms/step - loss: 1.5005 - accuracy: 0.4752 - val_loss: 1.5795 - val_accuracy: 0.4375\n",
      "Epoch 3/15\n",
      "1563/1563 [==============================] - 8s 5ms/step - loss: 1.4788 - accuracy: 0.4795 - val_loss: 1.4967 - val_accuracy: 0.4708\n",
      "Epoch 4/15\n",
      "1563/1563 [==============================] - 8s 5ms/step - loss: 1.4543 - accuracy: 0.4885 - val_loss: 1.5222 - val_accuracy: 0.4553\n",
      "Epoch 5/15\n",
      "1563/1563 [==============================] - 8s 5ms/step - loss: 1.4347 - accuracy: 0.4966 - val_loss: 1.5164 - val_accuracy: 0.4557\n",
      "Epoch 6/15\n",
      "1563/1563 [==============================] - 8s 5ms/step - loss: 1.4184 - accuracy: 0.5021 - val_loss: 1.4566 - val_accuracy: 0.4823\n",
      "Epoch 7/15\n",
      "1563/1563 [==============================] - 8s 5ms/step - loss: 1.4032 - accuracy: 0.5074 - val_loss: 1.4872 - val_accuracy: 0.4700\n",
      "Epoch 8/15\n",
      "1563/1563 [==============================] - 8s 5ms/step - loss: 1.3872 - accuracy: 0.5128 - val_loss: 1.5271 - val_accuracy: 0.4615\n",
      "Epoch 9/15\n",
      "1563/1563 [==============================] - 9s 6ms/step - loss: 1.3724 - accuracy: 0.5171 - val_loss: 1.4602 - val_accuracy: 0.4825\n",
      "Epoch 10/15\n",
      "1563/1563 [==============================] - 9s 6ms/step - loss: 1.3596 - accuracy: 0.5213 - val_loss: 1.4926 - val_accuracy: 0.4632\n",
      "Epoch 11/15\n",
      "1563/1563 [==============================] - 10s 6ms/step - loss: 1.3476 - accuracy: 0.5277 - val_loss: 1.4185 - val_accuracy: 0.4982\n",
      "Epoch 12/15\n",
      "1563/1563 [==============================] - 8s 5ms/step - loss: 1.3345 - accuracy: 0.5321 - val_loss: 1.4994 - val_accuracy: 0.4765\n",
      "Epoch 13/15\n",
      "1563/1563 [==============================] - 8s 5ms/step - loss: 1.3262 - accuracy: 0.5356 - val_loss: 1.4076 - val_accuracy: 0.4989\n",
      "Epoch 14/15\n",
      "1563/1563 [==============================] - 8s 5ms/step - loss: 1.3120 - accuracy: 0.5407 - val_loss: 1.4752 - val_accuracy: 0.4817\n",
      "Epoch 15/15\n",
      "1563/1563 [==============================] - 8s 5ms/step - loss: 1.3031 - accuracy: 0.5443 - val_loss: 1.4312 - val_accuracy: 0.4886\n"
     ]
    }
   ],
   "source": [
    "history=model.fit(x_train,y_train,validation_data=(x_test,y_test),epochs=15)"
   ]
  },
  {
   "cell_type": "code",
   "execution_count": 14,
   "id": "a07b0b80",
   "metadata": {},
   "outputs": [
    {
     "name": "stdout",
     "output_type": "stream",
     "text": [
      "313/313 [==============================] - 1s 3ms/step - loss: 1.4312 - accuracy: 0.4886\n",
      "Accuracy=0.489\n",
      "Loss=1.431\n"
     ]
    }
   ],
   "source": [
    "test_loss,test_acc=model.evaluate(x_test,y_test)\n",
    "print(\"Accuracy=%.3f\"%test_acc)\n",
    "print(\"Loss=%.3f\"%test_loss)"
   ]
  },
  {
   "cell_type": "code",
   "execution_count": 18,
   "id": "ef5b41e3",
   "metadata": {},
   "outputs": [
    {
     "name": "stdout",
     "output_type": "stream",
     "text": [
      "313/313 [==============================] - 1s 3ms/step\n"
     ]
    },
    {
     "data": {
      "image/png": "[encoded data removed]",
      "text/plain": [
       "<Figure size 432x288 with 1 Axes>"
      ]
     },
     "metadata": {
      "needs_background": "light"
     },
     "output_type": "display_data"
    }
   ],
   "source": [
    "n=random.randint(0,9999)\n",
    "predicted_val=model.predict(x_test)\n",
    "plt.imshow(x_test[n])\n",
    "\n",
    "index=np.argmax(predicted_val[n])"
   ]
  },
  {
   "cell_type": "code",
   "execution_count": 19,
   "id": "be723aff",
   "metadata": {},
   "outputs": [
    {
     "name": "stdout",
     "output_type": "stream",
     "text": [
      "cat\n"
     ]
    }
   ],
   "source": [
    "if index==0:\n",
    "    print('Airplane')\n",
    "if index==1:\n",
    "    print('automobile')\n",
    "if index==2:\n",
    "    print('bird')\n",
    "if index==3:\n",
    "    print('cat')\n",
    "if index==4:\n",
    "    print('deer')\n",
    "if index==5:\n",
    "    print('dog')\n",
    "if index==6:\n",
    "    print('frog')\n",
    "if index==7:\n",
    "    print('horse') \n",
    "if index==8:\n",
    "    print('ship')\n",
    "if index==9:\n",
    "    print('truck')"
   ]
  },
  {
   "cell_type": "code",
   "execution_count": null,
   "id": "7ad4c331",
   "metadata": {},
   "outputs": [],
   "source": []
  },
  {
   "cell_type": "code",
   "execution_count": null,
   "id": "fa4c64c4",
   "metadata": {},
   "outputs": [],
   "source": []
  }
 ],
 "metadata": {
  "kernelspec": {
   "display_name": "Python 3",
   "language": "python",
   "name": "python3"
  },
  "language_info": {
   "codemirror_mode": {
    "name": "ipython",
    "version": 3
   },
   "file_extension": ".py",
   "mimetype": "text/x-python",
   "name": "python",
   "nbconvert_exporter": "python",
   "pygments_lexer": "ipython3",
   "version": "3.8.8"
  }
 },
 "nbformat": 4,
 "nbformat_minor": 5
}
