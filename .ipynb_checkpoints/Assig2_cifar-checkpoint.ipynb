{
 "cells": [
  {
   "cell_type": "code",
   "execution_count": null,
   "id": "06ffd1ec",
   "metadata": {},
   "outputs": [],
   "source": [
    "import tensorflow as tf\n",
    "from tensorflow import keras\n",
    "import numpy as np\n",
    "import matplotlib.pyplot as plt\n",
    "import random\n"
   ]
  },
  {
   "cell_type": "code",
   "execution_count": null,
   "id": "79530cb1",
   "metadata": {},
   "outputs": [],
   "source": [
    "cifar=tf.keras.datasets.cifar10\n",
    "(x_train,y_train),(x_test,y_test)=cifar.load_data()"
   ]
  },
  {
   "cell_type": "code",
   "execution_count": null,
   "id": "4bb9f564",
   "metadata": {},
   "outputs": [],
   "source": [
    "x_train.shape"
   ]
  },
  {
   "cell_type": "code",
   "execution_count": null,
   "id": "4ac08372",
   "metadata": {},
   "outputs": [],
   "source": [
    "x_train=x_train/255\n",
    "x_test=x_test/255"
   ]
  },
  {
   "cell_type": "code",
   "execution_count": null,
   "id": "cca10261",
   "metadata": {},
   "outputs": [],
   "source": [
    "model=keras.Sequential([\n",
    "    \n",
    "    keras.layers.Flatten(input_shape=(32,32,3)),\n",
    "    keras.layers.Dense(128,activation='relu'),\n",
    "    keras.layers.Dense(10,activation='softmax')\n",
    "    \n",
    "    \n",
    "])\n",
    "model.summary()"
   ]
  },
  {
   "cell_type": "code",
   "execution_count": null,
   "id": "15ce2628",
   "metadata": {},
   "outputs": [],
   "source": [
    "model.compile(optimizer='sgd',loss='sparse_categorical_crossentropy',metrics=['accuracy'])"
   ]
  },
  {
   "cell_type": "code",
   "execution_count": null,
   "id": "7a397b4b",
   "metadata": {},
   "outputs": [],
   "source": [
    "history=model.fit(x_train,y_train,validation_data=(x_test,y_test),epochs=15)"
   ]
  },
  {
   "cell_type": "code",
   "execution_count": null,
   "id": "a07b0b80",
   "metadata": {},
   "outputs": [],
   "source": [
    "test_loss,test_acc=model.evaluate(x_test,y_test)\n",
    "print(\"Accuracy=%.3f\"%test_acc)\n",
    "print(\"Loss=%.3f\"%test_loss)"
   ]
  },
  {
   "cell_type": "code",
   "execution_count": null,
   "id": "ef5b41e3",
   "metadata": {},
   "outputs": [],
   "source": [
    "n=random.randint(0,9999)\n",
    "predicted_val=model.predict(x_test)\n",
    "plt.imshow(x_test[n])\n",
    "\n",
    "index=np.argmax(predicted_val[n])"
   ]
  },
  {
   "cell_type": "code",
   "execution_count": null,
   "id": "be723aff",
   "metadata": {},
   "outputs": [],
   "source": [
    "if index==0:\n",
    "    print('Airplane')\n",
    "if index==1:\n",
    "    print('automobile')\n",
    "if index==2:\n",
    "    print('bird')\n",
    "if index==3:\n",
    "    print('cat')\n",
    "if index==4:\n",
    "    print('deer')\n",
    "if index==5:\n",
    "    print('dog')\n",
    "if index==6:\n",
    "    print('frog')\n",
    "if index==7:\n",
    "    print('horse') \n",
    "if index==8:\n",
    "    print('ship')\n",
    "if index==9:\n",
    "    print('truck')"
   ]
  },
  {
   "cell_type": "code",
   "execution_count": null,
   "id": "7ad4c331",
   "metadata": {},
   "outputs": [],
   "source": []
  },
  {
   "cell_type": "code",
   "execution_count": null,
   "id": "fa4c64c4",
   "metadata": {},
   "outputs": [],
   "source": []
  }
 ],
 "metadata": {
  "kernelspec": {
   "display_name": "Python 3",
   "language": "python",
   "name": "python3"
  },
  "language_info": {
   "codemirror_mode": {
    "name": "ipython",
    "version": 3
   },
   "file_extension": ".py",
   "mimetype": "text/x-python",
   "name": "python",
   "nbconvert_exporter": "python",
   "pygments_lexer": "ipython3",
   "version": "3.8.8"
  }
 },
 "nbformat": 4,
 "nbformat_minor": 5
}
