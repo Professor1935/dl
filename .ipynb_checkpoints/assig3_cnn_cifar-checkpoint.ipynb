{
 "cells": [
  {
   "cell_type": "code",
   "execution_count": null,
   "id": "07202fb2",
   "metadata": {},
   "outputs": [],
   "source": [
    "import tensorflow as tf\n",
    "from tensorflow import keras\n",
    "import numpy as np\n",
    "from tensorflow.keras.layers import Dense,MaxPool2D,Flatten,Conv2D\n",
    "from tensorflow.keras import Sequential\n",
    "import matplotlib.pyplot as plt"
   ]
  },
  {
   "cell_type": "code",
   "execution_count": null,
   "id": "efd227aa",
   "metadata": {},
   "outputs": [],
   "source": [
    "cifar=tf.keras.datasets.cifar10\n",
    "(x_train,y_train),(x_test,y_test)=cifar.load_data()"
   ]
  },
  {
   "cell_type": "code",
   "execution_count": null,
   "id": "46b3d481",
   "metadata": {},
   "outputs": [],
   "source": [
    "x_train.shape"
   ]
  },
  {
   "cell_type": "code",
   "execution_count": null,
   "id": "a24a91bf",
   "metadata": {},
   "outputs": [],
   "source": [
    "x_train=x_train/255\n",
    "x_test=x_test/255\n",
    "x_train[0]"
   ]
  },
  {
   "cell_type": "code",
   "execution_count": null,
   "id": "328403ec",
   "metadata": {},
   "outputs": [],
   "source": [
    "model=Sequential([Conv2D(filters=32,kernel_size=3, padding=\"same\", activation=\"relu\", input_shape=[32,32,3]),\n",
    "                   MaxPool2D(pool_size=2,strides=2, padding='valid'),\n",
    "                   Flatten(),\n",
    "                   Dense(100,activation=\"relu\"),\n",
    "                   Dense(10,activation=\"softmax\")])\n",
    "model.summary()"
   ]
  },
  {
   "cell_type": "code",
   "execution_count": null,
   "id": "798bb1b6",
   "metadata": {},
   "outputs": [],
   "source": [
    "model.compile(optimizer='sgd',loss='sparse_categorical_crossentropy',metrics=['accuracy'])"
   ]
  },
  {
   "cell_type": "code",
   "execution_count": null,
   "id": "495a2531",
   "metadata": {},
   "outputs": [],
   "source": [
    "history=model.fit(x_train,y_train,validation_data=(x_test,y_test),epochs=10)"
   ]
  },
  {
   "cell_type": "code",
   "execution_count": null,
   "id": "50cc291a",
   "metadata": {},
   "outputs": [],
   "source": []
  },
  {
   "cell_type": "code",
   "execution_count": null,
   "id": "819ff40e",
   "metadata": {},
   "outputs": [],
   "source": [
    "import random\n",
    "n=random.randint(0,9999)\n",
    "plt.imshow(x_test[n])\n",
    "predict_val=model.predict(x_test)\n",
    "index=np.argmax(predict_val[n])"
   ]
  },
  {
   "cell_type": "code",
   "execution_count": null,
   "id": "fcd5ffdd",
   "metadata": {},
   "outputs": [],
   "source": [
    "if index==0:\n",
    "    print('Airplane')\n",
    "if index==1:\n",
    "    print('automobile')\n",
    "if index==2:\n",
    "    print('bird')\n",
    "if index==3:\n",
    "    print('cat')\n",
    "if index==4:\n",
    "    print('deer')\n",
    "if index==5:\n",
    "    print('dog')\n",
    "if index==6:\n",
    "    print('frog')\n",
    "if index==7:\n",
    "    print('horse') \n",
    "if index==8:\n",
    "    print('ship')\n",
    "if index==9:\n",
    "    print('truck')"
   ]
  },
  {
   "cell_type": "code",
   "execution_count": null,
   "id": "119a2b2b",
   "metadata": {},
   "outputs": [],
   "source": []
  }
 ],
 "metadata": {
  "kernelspec": {
   "display_name": "Python 3",
   "language": "python",
   "name": "python3"
  },
  "language_info": {
   "codemirror_mode": {
    "name": "ipython",
    "version": 3
   },
   "file_extension": ".py",
   "mimetype": "text/x-python",
   "name": "python",
   "nbconvert_exporter": "python",
   "pygments_lexer": "ipython3",
   "version": "3.8.8"
  }
 },
 "nbformat": 4,
 "nbformat_minor": 5
}
