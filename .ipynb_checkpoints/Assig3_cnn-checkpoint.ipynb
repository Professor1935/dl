{
 "cells": [
  {
   "cell_type": "code",
   "execution_count": null,
   "id": "3e7151ad",
   "metadata": {},
   "outputs": [],
   "source": [
    "import tensorflow as tf\n",
    "from tensorflow import keras\n",
    "from tensorflow.keras.layers import Flatten,Dense,Conv2D,Flatten,MaxPool2D\n",
    "from tensorflow.keras import Sequential\n",
    "import matplotlib.pyplot as plt"
   ]
  },
  {
   "cell_type": "code",
   "execution_count": null,
   "id": "18e7ccec",
   "metadata": {},
   "outputs": [],
   "source": [
    "mnist=tf.keras.datasets.mnist\n",
    "(x_train,y_train),(x_test,y_test)=mnist.load_data()"
   ]
  },
  {
   "cell_type": "code",
   "execution_count": null,
   "id": "11d4e539",
   "metadata": {},
   "outputs": [],
   "source": [
    "plt.imshow(x_train[0])"
   ]
  },
  {
   "cell_type": "code",
   "execution_count": null,
   "id": "37adf7b1",
   "metadata": {},
   "outputs": [],
   "source": [
    "x_train.shape,x_test.shape"
   ]
  },
  {
   "cell_type": "code",
   "execution_count": null,
   "id": "ef3e29ec",
   "metadata": {},
   "outputs": [],
   "source": [
    "x_train=x_train/255\n",
    "x_test=x_test/255\n",
    "x_train[0]"
   ]
  },
  {
   "cell_type": "code",
   "execution_count": null,
   "id": "b2026404",
   "metadata": {},
   "outputs": [],
   "source": [
    "model=Sequential([\n",
    "    Conv2D(32,(3,3),activation='relu',input_shape=(28,28,1)),\n",
    "    MaxPool2D((2,2)),\n",
    "    Flatten(),\n",
    "    Dense(100,activation='relu'),\n",
    "    Dense(10,activation='softmax')\n",
    "])\n",
    "model.summary()"
   ]
  },
  {
   "cell_type": "code",
   "execution_count": null,
   "id": "e6786455",
   "metadata": {},
   "outputs": [],
   "source": [
    "model.compile(optimizer='sgd',loss='sparse_categorical_crossentropy',metrics=['accuracy'])"
   ]
  },
  {
   "cell_type": "code",
   "execution_count": null,
   "id": "0070cc41",
   "metadata": {},
   "outputs": [],
   "source": [
    "history=model.fit(x_train,y_train,validation_data=(x_test,y_test),epochs=10).history"
   ]
  },
  {
   "cell_type": "code",
   "execution_count": null,
   "id": "4d8a49d3",
   "metadata": {},
   "outputs": [],
   "source": [
    "test_loss,test_acc=model.evaluate(x_test,y_test)\n",
    "print(\"Accuracy=%.3f\"%test_acc)\n",
    "print(\"Loss=%.3f\"%test_loss)"
   ]
  },
  {
   "cell_type": "code",
   "execution_count": null,
   "id": "d235a1d4",
   "metadata": {},
   "outputs": [],
   "source": [
    "import random\n",
    "n=random.randint(0,9999)\n",
    "predicted_val=model.predict(x_test)"
   ]
  },
  {
   "cell_type": "code",
   "execution_count": null,
   "id": "95211137",
   "metadata": {},
   "outputs": [],
   "source": [
    "import numpy as np\n",
    "plt.imshow(x_test[n])\n",
    "print(\"Number is=%d\"%np.argmax(predicted_val[n]))"
   ]
  },
  {
   "cell_type": "code",
   "execution_count": null,
   "id": "fc1bd1fb",
   "metadata": {},
   "outputs": [],
   "source": [
    "history.keys()"
   ]
  },
  {
   "cell_type": "code",
   "execution_count": null,
   "id": "86aefaa5",
   "metadata": {},
   "outputs": [],
   "source": [
    "plt.plot(history['accuracy'])\n",
    "plt.plot(history['val_accuracy'])\n",
    "plt.xlabel('epochs')\n",
    "plt.ylabel('accuracy')\n",
    "plt.legend(['accuracy','val_accuracy'])\n",
    "plt.show"
   ]
  },
  {
   "cell_type": "code",
   "execution_count": null,
   "id": "ec85e252",
   "metadata": {},
   "outputs": [],
   "source": []
  }
 ],
 "metadata": {
  "kernelspec": {
   "display_name": "Python 3",
   "language": "python",
   "name": "python3"
  },
  "language_info": {
   "codemirror_mode": {
    "name": "ipython",
    "version": 3
   },
   "file_extension": ".py",
   "mimetype": "text/x-python",
   "name": "python",
   "nbconvert_exporter": "python",
   "pygments_lexer": "ipython3",
   "version": "3.8.8"
  }
 },
 "nbformat": 4,
 "nbformat_minor": 5
}
